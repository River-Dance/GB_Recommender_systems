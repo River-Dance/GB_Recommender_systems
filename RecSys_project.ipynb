{
 "cells": [
  {
   "cell_type": "code",
   "execution_count": 1,
   "metadata": {
    "id": "oHJpAkq7AKqW"
   },
   "outputs": [
    {
     "name": "stdout",
     "output_type": "stream",
     "text": [
      "Requirement already satisfied: implicit in c:\\users\\admin\\anaconda3\\lib\\site-packages (0.6.2)\n",
      "Requirement already satisfied: numpy in c:\\users\\admin\\anaconda3\\lib\\site-packages (from implicit) (1.21.5)\n",
      "Requirement already satisfied: scipy>=0.16 in c:\\users\\admin\\anaconda3\\lib\\site-packages (from implicit) (1.7.3)\n",
      "Requirement already satisfied: tqdm>=4.27 in c:\\users\\admin\\anaconda3\\lib\\site-packages (from implicit) (4.64.0)\n",
      "Requirement already satisfied: colorama in c:\\users\\admin\\anaconda3\\lib\\site-packages (from tqdm>=4.27->implicit) (0.4.4)\n"
     ]
    }
   ],
   "source": [
    "!pip install implicit\n"
   ]
  },
  {
   "cell_type": "code",
   "execution_count": 2,
   "metadata": {},
   "outputs": [
    {
     "name": "stdout",
     "output_type": "stream",
     "text": [
      "Requirement already satisfied: pyspark in c:\\users\\admin\\anaconda3\\lib\\site-packages (3.4.0)\n",
      "Requirement already satisfied: py4j==0.10.9.7 in c:\\users\\admin\\anaconda3\\lib\\site-packages (from pyspark) (0.10.9.7)\n"
     ]
    }
   ],
   "source": [
    "!pip install pyspark"
   ]
  },
  {
   "cell_type": "code",
   "execution_count": 3,
   "metadata": {
    "id": "PBBgUhOf9v9L"
   },
   "outputs": [],
   "source": [
    "import pandas as pd\n",
    "import numpy as np\n",
    "import matplotlib.pyplot as plt\n",
    "%matplotlib inline\n",
    "from collections import Counter\n",
    "from lightgbm import LGBMClassifier\n",
    "\n",
    "import os, sys\n",
    "module_path = os.path.abspath(os.path.join(os.pardir))\n",
    "if module_path not in sys.path:\n",
    "    sys.path.append(module_path)\n",
    "\n",
    "from src.metrics import precision_at_k, recall_at_k\n",
    "from src.utils import prefilter_items\n",
    "from src.recommenders import MainRecommender\n",
    "\n",
    "import warnings\n",
    "warnings.simplefilter('ignore')"
   ]
  },
  {
   "cell_type": "code",
   "execution_count": 4,
   "metadata": {
    "colab": {
     "base_uri": "https://localhost:8080/"
    },
    "id": "_dsubjp-GfPX",
    "outputId": "680c93a9-dd86-44be-96e0-bdaa1f6a40a0"
   },
   "outputs": [
    {
     "data": {
      "text/plain": [
       "((2108779, 12), (169711, 12), (169711, 12), (118314, 12))"
      ]
     },
     "execution_count": 4,
     "metadata": {},
     "output_type": "execute_result"
    }
   ],
   "source": [
    "data = pd.read_csv('C:/Users/admin/Documents/GitHub/R_S_Project/data/retail_train.csv')\n",
    "data_test = pd.read_csv('C:/Users/admin/Documents/GitHub/R_S_Project/data/retail_test.csv')\n",
    "item_features = pd.read_csv('C:/Users/admin/Documents/GitHub/R_S_Project/data/product.csv')\n",
    "user_features = pd.read_csv('C:/Users/admin/Documents/GitHub/R_S_Project/data/hh_demographic.csv')\n",
    "\n",
    "item_features.columns = [col.lower() for col in item_features.columns]\n",
    "user_features.columns = [col.lower() for col in user_features.columns]\n",
    "\n",
    "item_features.rename(columns={'product_id': 'item_id'}, inplace=True)\n",
    "user_features.rename(columns={'household_key': 'user_id'}, inplace=True)\n",
    "\n",
    "# Важна схема обучения и валидации!\n",
    "# -- давние покупки -- | -- 6 недель -- | -- 3 недель -- \n",
    "# подобрать размер 2-ого датасета (6 недель) --> learning curve (зависимость метрики recall@k от размера датасета)\n",
    "val_lvl_1_size_weeks = 6\n",
    "val_lvl_2_size_weeks = 3\n",
    "\n",
    "data_train_lvl_1 = data[data['week_no'] < data['week_no'].max() - (val_lvl_1_size_weeks + val_lvl_2_size_weeks)]\n",
    "data_val_lvl_1 = data[(data['week_no'] >= data['week_no'].max() - (val_lvl_1_size_weeks + val_lvl_2_size_weeks)) &\n",
    "                      (data['week_no'] < data['week_no'].max() - (val_lvl_2_size_weeks))]\n",
    "\n",
    "data_train_lvl_2 = data_val_lvl_1.copy()\n",
    "data_val_lvl_2 = data[data['week_no'] >= data['week_no'].max() - val_lvl_2_size_weeks]\n",
    "\n",
    "data_train_lvl_1.shape, data_val_lvl_1.shape, data_train_lvl_2.shape, data_val_lvl_2.shape"
   ]
  },
  {
   "cell_type": "code",
   "execution_count": 5,
   "metadata": {
    "colab": {
     "base_uri": "https://localhost:8080/",
     "height": 111
    },
    "id": "jWkPQJmuG9bh",
    "outputId": "15af62bb-dd0e-4841-97ff-d2c156e4beda"
   },
   "outputs": [
    {
     "data": {
      "text/html": [
       "<div>\n",
       "<style scoped>\n",
       "    .dataframe tbody tr th:only-of-type {\n",
       "        vertical-align: middle;\n",
       "    }\n",
       "\n",
       "    .dataframe tbody tr th {\n",
       "        vertical-align: top;\n",
       "    }\n",
       "\n",
       "    .dataframe thead th {\n",
       "        text-align: right;\n",
       "    }\n",
       "</style>\n",
       "<table border=\"1\" class=\"dataframe\">\n",
       "  <thead>\n",
       "    <tr style=\"text-align: right;\">\n",
       "      <th></th>\n",
       "      <th>user_id</th>\n",
       "      <th>basket_id</th>\n",
       "      <th>day</th>\n",
       "      <th>item_id</th>\n",
       "      <th>quantity</th>\n",
       "      <th>sales_value</th>\n",
       "      <th>store_id</th>\n",
       "      <th>retail_disc</th>\n",
       "      <th>trans_time</th>\n",
       "      <th>week_no</th>\n",
       "      <th>coupon_disc</th>\n",
       "      <th>coupon_match_disc</th>\n",
       "    </tr>\n",
       "  </thead>\n",
       "  <tbody>\n",
       "    <tr>\n",
       "      <th>0</th>\n",
       "      <td>1340</td>\n",
       "      <td>41652823310</td>\n",
       "      <td>664</td>\n",
       "      <td>912987</td>\n",
       "      <td>1</td>\n",
       "      <td>8.49</td>\n",
       "      <td>446</td>\n",
       "      <td>0.0</td>\n",
       "      <td>52</td>\n",
       "      <td>96</td>\n",
       "      <td>0.0</td>\n",
       "      <td>0.0</td>\n",
       "    </tr>\n",
       "    <tr>\n",
       "      <th>1</th>\n",
       "      <td>588</td>\n",
       "      <td>41652838477</td>\n",
       "      <td>664</td>\n",
       "      <td>1024426</td>\n",
       "      <td>1</td>\n",
       "      <td>6.29</td>\n",
       "      <td>388</td>\n",
       "      <td>0.0</td>\n",
       "      <td>8</td>\n",
       "      <td>96</td>\n",
       "      <td>0.0</td>\n",
       "      <td>0.0</td>\n",
       "    </tr>\n",
       "  </tbody>\n",
       "</table>\n",
       "</div>"
      ],
      "text/plain": [
       "   user_id    basket_id  day  item_id  quantity  sales_value  store_id  \\\n",
       "0     1340  41652823310  664   912987         1         8.49       446   \n",
       "1      588  41652838477  664  1024426         1         6.29       388   \n",
       "\n",
       "   retail_disc  trans_time  week_no  coupon_disc  coupon_match_disc  \n",
       "0          0.0          52       96          0.0                0.0  \n",
       "1          0.0           8       96          0.0                0.0  "
      ]
     },
     "execution_count": 5,
     "metadata": {},
     "output_type": "execute_result"
    }
   ],
   "source": [
    "data_test.head(2)"
   ]
  },
  {
   "cell_type": "code",
   "execution_count": 6,
   "metadata": {
    "colab": {
     "base_uri": "https://localhost:8080/",
     "height": 235
    },
    "id": "k31T5jfMLytj",
    "outputId": "69341b62-ea1e-4272-e077-4c8a78fe14ba"
   },
   "outputs": [
    {
     "data": {
      "text/html": [
       "<div>\n",
       "<style scoped>\n",
       "    .dataframe tbody tr th:only-of-type {\n",
       "        vertical-align: middle;\n",
       "    }\n",
       "\n",
       "    .dataframe tbody tr th {\n",
       "        vertical-align: top;\n",
       "    }\n",
       "\n",
       "    .dataframe thead th {\n",
       "        text-align: right;\n",
       "    }\n",
       "</style>\n",
       "<table border=\"1\" class=\"dataframe\">\n",
       "  <thead>\n",
       "    <tr style=\"text-align: right;\">\n",
       "      <th></th>\n",
       "      <th>department</th>\n",
       "    </tr>\n",
       "    <tr>\n",
       "      <th>item_id</th>\n",
       "      <th></th>\n",
       "    </tr>\n",
       "  </thead>\n",
       "  <tbody>\n",
       "    <tr>\n",
       "      <th>25671</th>\n",
       "      <td>GROCERY</td>\n",
       "    </tr>\n",
       "    <tr>\n",
       "      <th>26081</th>\n",
       "      <td>MISC. TRANS.</td>\n",
       "    </tr>\n",
       "    <tr>\n",
       "      <th>26093</th>\n",
       "      <td>PASTRY</td>\n",
       "    </tr>\n",
       "    <tr>\n",
       "      <th>26190</th>\n",
       "      <td>GROCERY</td>\n",
       "    </tr>\n",
       "    <tr>\n",
       "      <th>26355</th>\n",
       "      <td>GROCERY</td>\n",
       "    </tr>\n",
       "  </tbody>\n",
       "</table>\n",
       "</div>"
      ],
      "text/plain": [
       "           department\n",
       "item_id              \n",
       "25671         GROCERY\n",
       "26081    MISC. TRANS.\n",
       "26093          PASTRY\n",
       "26190         GROCERY\n",
       "26355         GROCERY"
      ]
     },
     "execution_count": 6,
     "metadata": {},
     "output_type": "execute_result"
    }
   ],
   "source": [
    "item_features[['item_id', 'department']].set_index('item_id').head()"
   ]
  },
  {
   "cell_type": "markdown",
   "metadata": {
    "id": "WaQVcaPDMHTa"
   },
   "source": [
    "Оставляем топ-5000 популярных товаров"
   ]
  },
  {
   "cell_type": "code",
   "execution_count": 7,
   "metadata": {
    "colab": {
     "base_uri": "https://localhost:8080/"
    },
    "id": "2xPa0LL5L9b-",
    "outputId": "3cbd4dbe-8519-4df5-b82d-bffcbe6ee8c7"
   },
   "outputs": [
    {
     "name": "stdout",
     "output_type": "stream",
     "text": [
      "Decreased # items from 83685 to 5001\n"
     ]
    }
   ],
   "source": [
    "n_items_before = data_train_lvl_1['item_id'].nunique()\n",
    "data_train_lvl_1 = prefilter_items(data_train_lvl_1,\n",
    "                                   item_features=item_features,\n",
    "                                   take_n_popular=5000)\n",
    "n_items_after = data_train_lvl_1['item_id'].nunique()\n",
    "print('Decreased # items from {} to {}'.format(n_items_before, n_items_after))"
   ]
  },
  {
   "cell_type": "markdown",
   "metadata": {
    "id": "DvmX-m7yMX1_"
   },
   "source": [
    "Оставляем пользователей, общих для всех датасетов"
   ]
  },
  {
   "cell_type": "code",
   "execution_count": 8,
   "metadata": {
    "colab": {
     "base_uri": "https://localhost:8080/"
    },
    "id": "iwBIxPmWMXGj",
    "outputId": "f15cfb57-a55d-4baf-a0af-bef096e5fc56"
   },
   "outputs": [
    {
     "data": {
      "text/plain": [
       "((784420, 13), (163261, 12), (163261, 12), (115989, 12))"
      ]
     },
     "execution_count": 8,
     "metadata": {},
     "output_type": "execute_result"
    }
   ],
   "source": [
    "common_users = list(set(data_train_lvl_1.user_id.values)& \\\n",
    "                    (set(data_val_lvl_1.user_id.values))&set(data_val_lvl_2.user_id.values))\n",
    "\n",
    "data_train_lvl_1 = data_train_lvl_1[data_train_lvl_1.user_id.isin(common_users)]\n",
    "data_val_lvl_1 = data_val_lvl_1[data_val_lvl_1.user_id.isin(common_users)]\n",
    "data_train_lvl_2 = data_train_lvl_2[data_train_lvl_2.user_id.isin(common_users)]\n",
    "data_val_lvl_2 = data_val_lvl_2[data_val_lvl_2.user_id.isin(common_users)]\n",
    "\n",
    "data_train_lvl_1.shape, data_val_lvl_1.shape, data_train_lvl_2.shape, data_val_lvl_2.shape"
   ]
  },
  {
   "cell_type": "code",
   "execution_count": 9,
   "metadata": {
    "colab": {
     "base_uri": "https://localhost:8080/"
    },
    "id": "AOH1R5RtMk8n",
    "outputId": "4b29db69-8005-4610-8e28-f740b470becd"
   },
   "outputs": [
    {
     "data": {
      "text/plain": [
       "(1915, 1915, 1915, 1915)"
      ]
     },
     "execution_count": 9,
     "metadata": {},
     "output_type": "execute_result"
    }
   ],
   "source": [
    "data_train_lvl_1.user_id.unique().size, data_val_lvl_1.user_id.unique().size, \\\n",
    "data_train_lvl_2.user_id.unique().size, data_val_lvl_2.user_id.unique().size"
   ]
  },
  {
   "cell_type": "code",
   "execution_count": 10,
   "metadata": {
    "id": "ks5oSIXxOULq"
   },
   "outputs": [
    {
     "data": {
      "application/vnd.jupyter.widget-view+json": {
       "model_id": "f39d81eb862f43e9909008ea17795de5",
       "version_major": 2,
       "version_minor": 0
      },
      "text/plain": [
       "  0%|          | 0/15 [00:00<?, ?it/s]"
      ]
     },
     "metadata": {},
     "output_type": "display_data"
    },
    {
     "data": {
      "application/vnd.jupyter.widget-view+json": {
       "model_id": "da96563d016e441ea69a614b0945f0b4",
       "version_major": 2,
       "version_minor": 0
      },
      "text/plain": [
       "  0%|          | 0/4999 [00:00<?, ?it/s]"
      ]
     },
     "metadata": {},
     "output_type": "display_data"
    }
   ],
   "source": [
    "recommender = MainRecommender(data_train_lvl_1)"
   ]
  },
  {
   "cell_type": "code",
   "execution_count": 11,
   "metadata": {
    "colab": {
     "base_uri": "https://localhost:8080/",
     "height": 111
    },
    "id": "E2PX7cYoOqMf",
    "outputId": "d605250c-131f-447a-d399-8d19d4e249ed"
   },
   "outputs": [
    {
     "data": {
      "text/html": [
       "<div>\n",
       "<style scoped>\n",
       "    .dataframe tbody tr th:only-of-type {\n",
       "        vertical-align: middle;\n",
       "    }\n",
       "\n",
       "    .dataframe tbody tr th {\n",
       "        vertical-align: top;\n",
       "    }\n",
       "\n",
       "    .dataframe thead th {\n",
       "        text-align: right;\n",
       "    }\n",
       "</style>\n",
       "<table border=\"1\" class=\"dataframe\">\n",
       "  <thead>\n",
       "    <tr style=\"text-align: right;\">\n",
       "      <th></th>\n",
       "      <th>user_id</th>\n",
       "      <th>actual</th>\n",
       "    </tr>\n",
       "  </thead>\n",
       "  <tbody>\n",
       "    <tr>\n",
       "      <th>0</th>\n",
       "      <td>1</td>\n",
       "      <td>[853529, 865456, 867607, 872137, 874905, 87524...</td>\n",
       "    </tr>\n",
       "    <tr>\n",
       "      <th>1</th>\n",
       "      <td>6</td>\n",
       "      <td>[1024306, 1102949, 6548453, 835394, 940804, 96...</td>\n",
       "    </tr>\n",
       "  </tbody>\n",
       "</table>\n",
       "</div>"
      ],
      "text/plain": [
       "   user_id                                             actual\n",
       "0        1  [853529, 865456, 867607, 872137, 874905, 87524...\n",
       "1        6  [1024306, 1102949, 6548453, 835394, 940804, 96..."
      ]
     },
     "execution_count": 11,
     "metadata": {},
     "output_type": "execute_result"
    }
   ],
   "source": [
    "result_lvl_1 = data_val_lvl_1.groupby('user_id')['item_id'].unique().reset_index()\n",
    "result_lvl_1 = result_lvl_1[result_lvl_1.user_id.isin(data_train_lvl_1.user_id.unique())]\n",
    "result_lvl_1.columns=['user_id', 'actual']\n",
    "result_lvl_1.head(2)"
   ]
  },
  {
   "cell_type": "code",
   "execution_count": 12,
   "metadata": {
    "id": "wuGU1uy2PAll"
   },
   "outputs": [],
   "source": [
    "list_n = [20, 50, 100, 200, 500, 1000]\n",
    "result = {}\n",
    "\n",
    "for n in list_n:\n",
    "  \n",
    "    result_lvl_1[f'own_rec_{n}'] = result_lvl_1['user_id'].apply(lambda x: recommender.get_own_recommendations(x, N=n))\n",
    "    result_lvl_1[f'get_similar_items_{n}'] = result_lvl_1['user_id'].apply(lambda x: recommender.get_similar_items_recommendation(x, N=n))\n",
    "\n",
    "for col_name in result_lvl_1.columns[2:]:\n",
    "    recallatk = result_lvl_1.apply(lambda row: recall_at_k(row[col_name], row[\"actual\"], k=n), axis=1).mean()\n",
    "    result[f'{col_name}'] = recallatk"
   ]
  },
  {
   "cell_type": "code",
   "execution_count": 13,
   "metadata": {
    "colab": {
     "base_uri": "https://localhost:8080/"
    },
    "id": "Oh8dAu4RPK80",
    "outputId": "e50772fe-6176-45b3-886e-2ff8ec91c8b7"
   },
   "outputs": [
    {
     "data": {
      "text/plain": [
       "{'own_rec_20': 0.027045779448957256,\n",
       " 'get_similar_items_20': 0.02773981081463361,\n",
       " 'own_rec_50': 0.04060846480414956,\n",
       " 'get_similar_items_50': 0.04078552278713454,\n",
       " 'own_rec_100': 0.05921234846930957,\n",
       " 'get_similar_items_100': 0.059550768186547524,\n",
       " 'own_rec_200': 0.0865920970498879,\n",
       " 'get_similar_items_200': 0.08687691969201936,\n",
       " 'own_rec_500': 0.12932600716150228,\n",
       " 'get_similar_items_500': 0.12959617437893609,\n",
       " 'own_rec_1000': 0.17740707829729865,\n",
       " 'get_similar_items_1000': 0.17746255546477177}"
      ]
     },
     "execution_count": 13,
     "metadata": {},
     "output_type": "execute_result"
    }
   ],
   "source": [
    "result"
   ]
  },
  {
   "cell_type": "code",
   "execution_count": 14,
   "metadata": {
    "colab": {
     "base_uri": "https://localhost:8080/",
     "height": 441
    },
    "id": "F3vuwIjaPNw6",
    "outputId": "6b9c9117-1fe9-4213-cb94-20d09647d139"
   },
   "outputs": [
    {
     "data": {
      "image/png": "[encoded data removed]",
      "text/plain": [
       "<Figure size 432x216 with 1 Axes>"
      ]
     },
     "metadata": {
      "needs_background": "light"
     },
     "output_type": "display_data"
    }
   ],
   "source": [
    "plt.figure(figsize=(6,3))\n",
    "plt.plot([x[0] for x in Counter(result).most_common()], [x[1] for x in Counter(result).most_common()])\n",
    "plt.xticks(rotation=90)\n",
    "plt.show()"
   ]
  },
  {
   "cell_type": "markdown",
   "metadata": {
    "id": "lo36ffhFP4LX"
   },
   "source": [
    "Метрика растёт с увеличением N. Попробую взять N=1000"
   ]
  },
  {
   "cell_type": "markdown",
   "metadata": {
    "id": "l3iI641XP0uX"
   },
   "source": [
    "# Генерация признаков"
   ]
  },
  {
   "cell_type": "code",
   "execution_count": 15,
   "metadata": {
    "colab": {
     "base_uri": "https://localhost:8080/",
     "height": 111
    },
    "id": "5PA1vrzbS1m-",
    "outputId": "ddc737b1-f3b5-4163-f0ef-3e0716a92922"
   },
   "outputs": [
    {
     "data": {
      "text/html": [
       "<div>\n",
       "<style scoped>\n",
       "    .dataframe tbody tr th:only-of-type {\n",
       "        vertical-align: middle;\n",
       "    }\n",
       "\n",
       "    .dataframe tbody tr th {\n",
       "        vertical-align: top;\n",
       "    }\n",
       "\n",
       "    .dataframe thead th {\n",
       "        text-align: right;\n",
       "    }\n",
       "</style>\n",
       "<table border=\"1\" class=\"dataframe\">\n",
       "  <thead>\n",
       "    <tr style=\"text-align: right;\">\n",
       "      <th></th>\n",
       "      <th>user_id</th>\n",
       "      <th>basket_id</th>\n",
       "      <th>day</th>\n",
       "      <th>item_id</th>\n",
       "      <th>quantity</th>\n",
       "      <th>sales_value</th>\n",
       "      <th>store_id</th>\n",
       "      <th>retail_disc</th>\n",
       "      <th>trans_time</th>\n",
       "      <th>week_no</th>\n",
       "      <th>coupon_disc</th>\n",
       "      <th>coupon_match_disc</th>\n",
       "      <th>price</th>\n",
       "    </tr>\n",
       "  </thead>\n",
       "  <tbody>\n",
       "    <tr>\n",
       "      <th>7</th>\n",
       "      <td>2375</td>\n",
       "      <td>26984851516</td>\n",
       "      <td>1</td>\n",
       "      <td>1085983</td>\n",
       "      <td>1</td>\n",
       "      <td>2.99</td>\n",
       "      <td>364</td>\n",
       "      <td>-0.4</td>\n",
       "      <td>1642</td>\n",
       "      <td>1</td>\n",
       "      <td>0.0</td>\n",
       "      <td>0.0</td>\n",
       "      <td>2.99</td>\n",
       "    </tr>\n",
       "    <tr>\n",
       "      <th>11</th>\n",
       "      <td>1364</td>\n",
       "      <td>26984896261</td>\n",
       "      <td>1</td>\n",
       "      <td>999999</td>\n",
       "      <td>1</td>\n",
       "      <td>2.19</td>\n",
       "      <td>31742</td>\n",
       "      <td>0.0</td>\n",
       "      <td>1520</td>\n",
       "      <td>1</td>\n",
       "      <td>0.0</td>\n",
       "      <td>0.0</td>\n",
       "      <td>2.19</td>\n",
       "    </tr>\n",
       "  </tbody>\n",
       "</table>\n",
       "</div>"
      ],
      "text/plain": [
       "    user_id    basket_id  day  item_id  quantity  sales_value  store_id  \\\n",
       "7      2375  26984851516    1  1085983         1         2.99       364   \n",
       "11     1364  26984896261    1   999999         1         2.19     31742   \n",
       "\n",
       "    retail_disc  trans_time  week_no  coupon_disc  coupon_match_disc  price  \n",
       "7          -0.4        1642        1          0.0                0.0   2.99  \n",
       "11          0.0        1520        1          0.0                0.0   2.19  "
      ]
     },
     "execution_count": 15,
     "metadata": {},
     "output_type": "execute_result"
    }
   ],
   "source": [
    "data_lvl_1 = pd.concat([data_train_lvl_1, data_val_lvl_1])\n",
    "data_lvl_1.head(2)"
   ]
  },
  {
   "cell_type": "code",
   "execution_count": 16,
   "metadata": {
    "colab": {
     "base_uri": "https://localhost:8080/"
    },
    "id": "jfwVDqT8Vf1u",
    "outputId": "eea12b25-b62f-4e83-94e4-337c959d6fd1"
   },
   "outputs": [
    {
     "data": {
      "text/plain": [
       "0.0    1891202\n",
       "1.0      23798\n",
       "Name: target, dtype: int64"
      ]
     },
     "execution_count": 16,
     "metadata": {},
     "output_type": "execute_result"
    }
   ],
   "source": [
    "N = 1000\n",
    "users_lvl_2 = pd.DataFrame(data_train_lvl_2['user_id'].unique())\n",
    "users_lvl_2.columns = ['user_id']\n",
    "\n",
    "train_users = data_train_lvl_1['user_id'].unique()\n",
    "users_lvl_2 = users_lvl_2[users_lvl_2['user_id'].isin(train_users)]\n",
    "\n",
    "users_lvl_2['candidates'] = users_lvl_2['user_id'].apply(lambda x: recommender.get_own_recommendations(x, N=N))\n",
    "\n",
    "# разворачиваем товары\n",
    "df_items = users_lvl_2.apply(lambda x: pd.Series(x['candidates']), axis=1).stack().reset_index(level=1, drop=True)\n",
    "df_items.name = 'item_id'\n",
    "\n",
    "users_lvl_2 = users_lvl_2.drop('candidates', axis=1).join(df_items)\n",
    "users_lvl_2.head(2)\n",
    "\n",
    "data_train_lvl_2 = data_train_lvl_2[['user_id', 'item_id']].copy()\n",
    "data_train_lvl_2['target'] = 1  # тут только покупки \n",
    "\n",
    "# Не хватает нулей в датасете, поэтому добавляем наших кандитатов в качестве нулей\n",
    "data_train_lvl_2 = users_lvl_2.merge(data_train_lvl_2, on=['user_id', 'item_id'], how='left')\n",
    "\n",
    "# чистим дубликаты\n",
    "data_train_lvl_2 = data_train_lvl_2.drop_duplicates(subset=['user_id', 'item_id'])\n",
    "data_train_lvl_2['target'].fillna(0, inplace= True)\n",
    "\n",
    "data_train_lvl_2['target'].value_counts()"
   ]
  },
  {
   "cell_type": "code",
   "execution_count": 17,
   "metadata": {
    "colab": {
     "base_uri": "https://localhost:8080/",
     "height": 111
    },
    "id": "aej54TQ7VrLM",
    "outputId": "37259b3e-22ea-40a7-d70f-7f346839d09c"
   },
   "outputs": [
    {
     "data": {
      "text/html": [
       "<div>\n",
       "<style scoped>\n",
       "    .dataframe tbody tr th:only-of-type {\n",
       "        vertical-align: middle;\n",
       "    }\n",
       "\n",
       "    .dataframe tbody tr th {\n",
       "        vertical-align: top;\n",
       "    }\n",
       "\n",
       "    .dataframe thead th {\n",
       "        text-align: right;\n",
       "    }\n",
       "</style>\n",
       "<table border=\"1\" class=\"dataframe\">\n",
       "  <thead>\n",
       "    <tr style=\"text-align: right;\">\n",
       "      <th></th>\n",
       "      <th>user_id</th>\n",
       "      <th>item_id</th>\n",
       "    </tr>\n",
       "  </thead>\n",
       "  <tbody>\n",
       "    <tr>\n",
       "      <th>0</th>\n",
       "      <td>338</td>\n",
       "      <td>999999</td>\n",
       "    </tr>\n",
       "    <tr>\n",
       "      <th>0</th>\n",
       "      <td>338</td>\n",
       "      <td>1029743</td>\n",
       "    </tr>\n",
       "  </tbody>\n",
       "</table>\n",
       "</div>"
      ],
      "text/plain": [
       "   user_id  item_id\n",
       "0      338   999999\n",
       "0      338  1029743"
      ]
     },
     "execution_count": 17,
     "metadata": {},
     "output_type": "execute_result"
    }
   ],
   "source": [
    "users_test = pd.DataFrame(data_val_lvl_2['user_id'].unique()).rename(columns={0:'user_id'})\n",
    "users_test['candidates'] = users_test['user_id'].apply(lambda x: recommender.get_own_recommendations(x, N=N))\n",
    "\n",
    "df_items = users_test.apply(lambda x: pd.Series(x['candidates']), axis=1).stack().reset_index(level=1, drop=True)\n",
    "df_items.name = 'item_id'\n",
    "\n",
    "users_test = users_test.drop('candidates', axis=1).join(df_items)\n",
    "users_test.head(2)"
   ]
  },
  {
   "cell_type": "code",
   "execution_count": 18,
   "metadata": {
    "id": "d0aR9xB2V1or"
   },
   "outputs": [],
   "source": [
    "def feature_generation(data_lvl_1, data_train_lvl_2, user_features, item_features):\n",
    "\n",
    "    # средний чек\n",
    "    user_average_bill = data_lvl_1.groupby([\"user_id\", \"basket_id\"])[['price']].mean().\\\n",
    "                                        groupby('user_id')['price'].mean()\n",
    "    user_average_bill.name = \"user_average_bill\"\n",
    "    user_features = user_features.merge(user_average_bill, how = 'left', on = 'user_id')\n",
    "    \n",
    "    # среднее количество покупок в неделю/месяц\n",
    "    data_lvl_1['month'] = data_lvl_1['day'].apply(lambda x: (x+30)//30)\n",
    "\n",
    "    user_monthes_sum_purchase = data_lvl_1.groupby([\"user_id\"])[\"month\"].nunique()\n",
    "    user_sum_purchases = data_lvl_1.groupby(['user_id'])['basket_id'].nunique()\n",
    "    user_purchases_freq_per_month = user_sum_purchases / user_monthes_sum_purchase\n",
    "    user_purchases_freq_per_month.name = \"user_purchases_freq_per_month\"\n",
    "\n",
    "    user_weeks_sum_purchase = data_lvl_1.groupby([\"user_id\"])[\"week_no\"].nunique()\n",
    "    user_purchases_freq_per_week = user_sum_purchases / user_weeks_sum_purchase\n",
    "    user_purchases_freq_per_week.name = \"user_purchases_freq_per_week\"\n",
    "\n",
    "    user_features = user_features.merge(user_purchases_freq_per_month, how = 'left', on = 'user_id')\n",
    "    user_features = user_features.merge(user_purchases_freq_per_week, how = 'left', on = 'user_id')\n",
    "    \n",
    "    # item features\n",
    "    \n",
    "    # Среднее кол-во покупок item_id в неделю\n",
    "    item_per_week = data_lvl_1.groupby('item_id')['quantity'].sum().rename('item_per_week') / data_lvl_1['week_no'].max()\n",
    "    item_features = item_features.merge(item_per_week, how='left', on='item_id', suffixes=(False, False))\n",
    "\n",
    "    # Средняя частота item в корзине\n",
    "    item_freq_per_basket = data_lvl_1.groupby(['item_id']).agg('user_id').count().rename('item_freq_per_basket')/data_lvl_1.basket_id.nunique()\n",
    "    item_features = item_features.merge(item_freq_per_basket, how='left', on='item_id', suffixes=(False, False))\n",
    "\n",
    "    # цена\n",
    "    item_price = data_lvl_1.groupby(['item_id']).agg({'quantity': 'sum', 'sales_value': 'sum'})\n",
    "    item_price = item_price['sales_value'] / item_price['quantity']\n",
    "    item_price.name = 'item_price'\n",
    "    item_features = item_features.merge(item_price, how='left', on=\"item_id\", suffixes=(False, False))\n",
    "\n",
    "    # Среднее кол-во покупок 1 товара в категории в неделю\n",
    "    data_categ = pd.merge(data_lvl_1, item_features, how='inner', on='item_id')\n",
    "    categ_freq_ = data_categ.groupby(['department'])['quantity'].sum()\n",
    "    categ_item_freq_ = data_categ.groupby(['department', 'item_id'])['quantity'].sum().reset_index()\n",
    "    categ_freq = pd.merge(categ_item_freq_, categ_freq_, on='department')\n",
    "    categ_freq['category_freq'] = categ_freq['quantity_y'] / data_lvl_1['week_no'].max() / categ_freq['quantity_x']\n",
    "    categ_freq.set_index('item_id', inplace=True)\n",
    "    category_freq = categ_freq['category_freq']\n",
    "    item_features = item_features.merge(category_freq, how='left', on='item_id', suffixes=(False, False))\n",
    "    \n",
    "    # (Кол-во покупок юзером конкретной категории в неделю) / (Среднее кол-во покупок всеми юзерами конкретной категории в неделю)\n",
    "    categ_user_freq_ = data_categ.groupby(['user_id', 'department'])['quantity'].sum().reset_index()\n",
    "    categ_user_freq_['category_freq'] = categ_user_freq_['quantity'] / data_lvl_1['week_no'].max()\n",
    "    categ_user_freq = pd.merge(categ_user_freq_, categ_freq_, on='department')\n",
    "    categ_user_freq['avg_weekly_freq'] = categ_user_freq['quantity_y'] / data_lvl_1['week_no'].max()\n",
    "    categ_user_freq['freq_ratio_2'] = categ_user_freq['category_freq'] / categ_user_freq['avg_weekly_freq']\n",
    "    user_dep_ratio_2 = categ_user_freq.filter(['user_id', 'department', 'freq_ratio_2'], axis=1)\n",
    "\n",
    "    # (Кол-во покупок юзером конкретной категории в неделю) - (Среднее кол-во покупок всеми юзерами конкретной категории в неделю)\n",
    "    categ_user_freq['freq_ratio_3'] = categ_user_freq['category_freq'] - categ_user_freq['avg_weekly_freq']\n",
    "    user_dep_ratio_3 = categ_user_freq.filter(['user_id', 'department', 'freq_ratio_3'], axis=1)\n",
    "\n",
    "    data_train_lvl_2 = data_train_lvl_2.merge(user_features, on='user_id', how='left', suffixes=(False, False))\n",
    "    \n",
    "    data_train_lvl_2 = data_train_lvl_2.merge(data_train_lvl_1.groupby(by='item_id').\\\n",
    "                                          agg('sales_value').sum().rename('total_item_sales_value'), how='left',on='item_id')\n",
    "    data_train_lvl_2 = data_train_lvl_2.merge(data_train_lvl_1.groupby(by='item_id').\\\n",
    "                                              agg('quantity').sum().rename('total_quantity_value'), how='left',on='item_id')\n",
    "    data_train_lvl_2 = data_train_lvl_2.merge(data_train_lvl_1.groupby(by='item_id').\\\n",
    "                                              agg(\"user_id\").count().rename('item_freq'), how='left',on='item_id')\n",
    "    data_train_lvl_2 = data_train_lvl_2.merge(data_train_lvl_1.groupby(by=\"user_id\").\\\n",
    "                                              agg(\"user_id\").count().rename('user_freq'), how='left',on=\"user_id\")\n",
    "    data_train_lvl_2 = data_train_lvl_2.merge(data_train_lvl_1.groupby(by=\"user_id\").\\\n",
    "                                              agg('sales_value').sum().rename('total_user_sales_value'), how='left',on=\"user_id\")\n",
    "    data_train_lvl_2 = data_train_lvl_2.merge(data_train_lvl_1.groupby(by='item_id').\\\n",
    "                                              agg('quantity').sum().rename('item_quantity_per_week')/data_train_lvl_1.week_no.nunique(),\n",
    "                                              how='left',on='item_id')\n",
    "    data_train_lvl_2 = data_train_lvl_2.merge(data_train_lvl_1.groupby(by=\"user_id\").\\\n",
    "                                              agg('quantity').sum().rename('user_quantity_per_week')/data_train_lvl_1.week_no.nunique(),\n",
    "                                              how='left',on=\"user_id\")\n",
    "    data_train_lvl_2 = data_train_lvl_2.merge(data_train_lvl_1.groupby(by='item_id').\\\n",
    "                                              agg('quantity').sum().rename('item_quantity_per_basket')/data_train_lvl_1.basket_id.nunique(), \n",
    "                                              how='left',on='item_id')\n",
    "    data_train_lvl_2 = data_train_lvl_2.merge(data_train_lvl_1.groupby(by=\"user_id\").\\\n",
    "                                              agg('quantity').sum().rename('user_quantity_per_baskter')/data_train_lvl_1.basket_id.nunique(), \n",
    "                                              how='left',on=\"user_id\")\n",
    "    data_train_lvl_2 = data_train_lvl_2.merge(data_train_lvl_1.groupby(by='item_id').\\\n",
    "                                              agg(\"user_id\").count().rename('item_freq_per_basket')/data_train_lvl_1.basket_id.nunique(),\n",
    "                                              how='left',on='item_id')\n",
    "    data_train_lvl_2 = data_train_lvl_2.merge(data_train_lvl_1.groupby(by=\"user_id\").\\\n",
    "                                              agg(\"user_id\").count().rename('user_freq_per_basket')/data_train_lvl_1.basket_id.nunique(),\n",
    "                                              how='left',on=\"user_id\")\n",
    "    \n",
    "    return data_train_lvl_2"
   ]
  },
  {
   "cell_type": "code",
   "execution_count": 19,
   "metadata": {
    "id": "1G4cVvZiV6nY"
   },
   "outputs": [],
   "source": [
    "data_train_lvl_2 = feature_generation(data_lvl_1, data_train_lvl_2, user_features, item_features)\n",
    "data_test = feature_generation(data_lvl_1, data_val_lvl_2, user_features, item_features)"
   ]
  },
  {
   "cell_type": "code",
   "execution_count": 20,
   "metadata": {
    "colab": {
     "base_uri": "https://localhost:8080/",
     "height": 204
    },
    "id": "zipEzWP6WBJH",
    "outputId": "44191a6f-c9ce-421f-c771-1dcf5ac8f86c"
   },
   "outputs": [
    {
     "data": {
      "text/html": [
       "<div>\n",
       "<style scoped>\n",
       "    .dataframe tbody tr th:only-of-type {\n",
       "        vertical-align: middle;\n",
       "    }\n",
       "\n",
       "    .dataframe tbody tr th {\n",
       "        vertical-align: top;\n",
       "    }\n",
       "\n",
       "    .dataframe thead th {\n",
       "        text-align: right;\n",
       "    }\n",
       "</style>\n",
       "<table border=\"1\" class=\"dataframe\">\n",
       "  <thead>\n",
       "    <tr style=\"text-align: right;\">\n",
       "      <th></th>\n",
       "      <th>user_id</th>\n",
       "      <th>item_id</th>\n",
       "      <th>age_desc</th>\n",
       "      <th>marital_status_code</th>\n",
       "      <th>income_desc</th>\n",
       "      <th>homeowner_desc</th>\n",
       "      <th>hh_comp_desc</th>\n",
       "      <th>household_size_desc</th>\n",
       "      <th>kid_category_desc</th>\n",
       "      <th>user_average_bill</th>\n",
       "      <th>...</th>\n",
       "      <th>total_quantity_value</th>\n",
       "      <th>item_freq</th>\n",
       "      <th>user_freq</th>\n",
       "      <th>total_user_sales_value</th>\n",
       "      <th>item_quantity_per_week</th>\n",
       "      <th>user_quantity_per_week</th>\n",
       "      <th>item_quantity_per_basket</th>\n",
       "      <th>user_quantity_per_baskter</th>\n",
       "      <th>item_freq_per_basket</th>\n",
       "      <th>user_freq_per_basket</th>\n",
       "    </tr>\n",
       "  </thead>\n",
       "  <tbody>\n",
       "    <tr>\n",
       "      <th>0</th>\n",
       "      <td>2070</td>\n",
       "      <td>999999</td>\n",
       "      <td>45-54</td>\n",
       "      <td>U</td>\n",
       "      <td>50-74K</td>\n",
       "      <td>Unknown</td>\n",
       "      <td>Unknown</td>\n",
       "      <td>1</td>\n",
       "      <td>None/Unknown</td>\n",
       "      <td>4.161997</td>\n",
       "      <td>...</td>\n",
       "      <td>274916</td>\n",
       "      <td>251603</td>\n",
       "      <td>592</td>\n",
       "      <td>3006.56</td>\n",
       "      <td>3234.305882</td>\n",
       "      <td>8.694118</td>\n",
       "      <td>1.824321</td>\n",
       "      <td>0.004904</td>\n",
       "      <td>1.669617</td>\n",
       "      <td>0.003928</td>\n",
       "    </tr>\n",
       "    <tr>\n",
       "      <th>1</th>\n",
       "      <td>2070</td>\n",
       "      <td>1029743</td>\n",
       "      <td>45-54</td>\n",
       "      <td>U</td>\n",
       "      <td>50-74K</td>\n",
       "      <td>Unknown</td>\n",
       "      <td>Unknown</td>\n",
       "      <td>1</td>\n",
       "      <td>None/Unknown</td>\n",
       "      <td>4.161997</td>\n",
       "      <td>...</td>\n",
       "      <td>10275</td>\n",
       "      <td>8899</td>\n",
       "      <td>592</td>\n",
       "      <td>3006.56</td>\n",
       "      <td>120.882353</td>\n",
       "      <td>8.694118</td>\n",
       "      <td>0.068184</td>\n",
       "      <td>0.004904</td>\n",
       "      <td>0.059053</td>\n",
       "      <td>0.003928</td>\n",
       "    </tr>\n",
       "  </tbody>\n",
       "</table>\n",
       "<p>2 rows × 23 columns</p>\n",
       "</div>"
      ],
      "text/plain": [
       "   user_id  item_id age_desc marital_status_code income_desc homeowner_desc  \\\n",
       "0     2070   999999    45-54                   U      50-74K        Unknown   \n",
       "1     2070  1029743    45-54                   U      50-74K        Unknown   \n",
       "\n",
       "  hh_comp_desc household_size_desc kid_category_desc  user_average_bill  ...  \\\n",
       "0      Unknown                   1      None/Unknown           4.161997  ...   \n",
       "1      Unknown                   1      None/Unknown           4.161997  ...   \n",
       "\n",
       "   total_quantity_value  item_freq  user_freq  total_user_sales_value  \\\n",
       "0                274916     251603        592                 3006.56   \n",
       "1                 10275       8899        592                 3006.56   \n",
       "\n",
       "   item_quantity_per_week  user_quantity_per_week  item_quantity_per_basket  \\\n",
       "0             3234.305882                8.694118                  1.824321   \n",
       "1              120.882353                8.694118                  0.068184   \n",
       "\n",
       "   user_quantity_per_baskter  item_freq_per_basket  user_freq_per_basket  \n",
       "0                   0.004904              1.669617              0.003928  \n",
       "1                   0.004904              0.059053              0.003928  \n",
       "\n",
       "[2 rows x 23 columns]"
      ]
     },
     "execution_count": 20,
     "metadata": {},
     "output_type": "execute_result"
    }
   ],
   "source": [
    "X_train = data_train_lvl_2.drop('target', axis=1)\n",
    "y_train = data_train_lvl_2[['target']]\n",
    "X_train.head(2)"
   ]
  },
  {
   "cell_type": "code",
   "execution_count": 21,
   "metadata": {
    "colab": {
     "base_uri": "https://localhost:8080/"
    },
    "id": "byswgHh3WKDl",
    "outputId": "948b0bc2-db8d-4179-a81f-eed7d613dbbf"
   },
   "outputs": [
    {
     "data": {
      "text/plain": [
       "['age_desc',\n",
       " 'marital_status_code',\n",
       " 'income_desc',\n",
       " 'homeowner_desc',\n",
       " 'hh_comp_desc',\n",
       " 'household_size_desc',\n",
       " 'kid_category_desc',\n",
       " 'user_average_bill',\n",
       " 'user_purchases_freq_per_month',\n",
       " 'user_purchases_freq_per_week',\n",
       " 'total_item_sales_value',\n",
       " 'total_quantity_value',\n",
       " 'item_freq',\n",
       " 'user_freq',\n",
       " 'total_user_sales_value',\n",
       " 'item_quantity_per_week',\n",
       " 'user_quantity_per_week',\n",
       " 'item_quantity_per_basket',\n",
       " 'user_quantity_per_baskter',\n",
       " 'item_freq_per_basket',\n",
       " 'user_freq_per_basket']"
      ]
     },
     "execution_count": 21,
     "metadata": {},
     "output_type": "execute_result"
    }
   ],
   "source": [
    "cat_feats = X_train.columns[2:].tolist()\n",
    "X_train[cat_feats] = X_train[cat_feats].astype('category')\n",
    "cat_feats"
   ]
  },
  {
   "cell_type": "code",
   "execution_count": 22,
   "metadata": {
    "colab": {
     "base_uri": "https://localhost:8080/"
    },
    "id": "mQP-k9jVWSoI",
    "outputId": "4966da7a-49de-4b8e-8742-4a972a25b146"
   },
   "outputs": [
    {
     "name": "stdout",
     "output_type": "stream",
     "text": [
      "CPU times: total: 6min\n",
      "Wall time: 37.2 s\n"
     ]
    }
   ],
   "source": [
    "%%time\n",
    "lgb = LGBMClassifier(objective='binary',\n",
    "                     n_jobs=-1,\n",
    "                     max_depth=50,\n",
    "                     n_estimators=500,\n",
    "                     learning_rate=0.1,\n",
    "                     categorical_column=cat_feats)\n",
    "\n",
    "lgb.fit(X_train, y_train)\n",
    "\n",
    "train_preds = lgb.predict_proba(X_train)"
   ]
  },
  {
   "cell_type": "code",
   "execution_count": 23,
   "metadata": {
    "colab": {
     "base_uri": "https://localhost:8080/",
     "height": 235
    },
    "id": "8P6-19XHWdF5",
    "outputId": "1fda3740-28f8-491b-c197-6e2ccf09b16a"
   },
   "outputs": [
    {
     "data": {
      "text/html": [
       "<div>\n",
       "<style scoped>\n",
       "    .dataframe tbody tr th:only-of-type {\n",
       "        vertical-align: middle;\n",
       "    }\n",
       "\n",
       "    .dataframe tbody tr th {\n",
       "        vertical-align: top;\n",
       "    }\n",
       "\n",
       "    .dataframe thead th {\n",
       "        text-align: right;\n",
       "    }\n",
       "</style>\n",
       "<table border=\"1\" class=\"dataframe\">\n",
       "  <thead>\n",
       "    <tr style=\"text-align: right;\">\n",
       "      <th></th>\n",
       "      <th>age_desc</th>\n",
       "      <th>marital_status_code</th>\n",
       "      <th>income_desc</th>\n",
       "      <th>homeowner_desc</th>\n",
       "      <th>hh_comp_desc</th>\n",
       "      <th>household_size_desc</th>\n",
       "      <th>kid_category_desc</th>\n",
       "      <th>user_average_bill</th>\n",
       "      <th>user_purchases_freq_per_month</th>\n",
       "      <th>user_purchases_freq_per_week</th>\n",
       "      <th>...</th>\n",
       "      <th>user_freq</th>\n",
       "      <th>total_user_sales_value</th>\n",
       "      <th>item_quantity_per_week</th>\n",
       "      <th>user_quantity_per_week</th>\n",
       "      <th>item_quantity_per_basket</th>\n",
       "      <th>user_quantity_per_baskter</th>\n",
       "      <th>item_freq_per_basket</th>\n",
       "      <th>user_freq_per_basket</th>\n",
       "      <th>user_id</th>\n",
       "      <th>item_id</th>\n",
       "    </tr>\n",
       "  </thead>\n",
       "  <tbody>\n",
       "    <tr>\n",
       "      <th>115986</th>\n",
       "      <td>45-54</td>\n",
       "      <td>U</td>\n",
       "      <td>50-74K</td>\n",
       "      <td>Homeowner</td>\n",
       "      <td>Unknown</td>\n",
       "      <td>1</td>\n",
       "      <td>None/Unknown</td>\n",
       "      <td>4.440243</td>\n",
       "      <td>3.578947</td>\n",
       "      <td>1.658537</td>\n",
       "      <td>...</td>\n",
       "      <td>331</td>\n",
       "      <td>1649.08</td>\n",
       "      <td>NaN</td>\n",
       "      <td>4.964706</td>\n",
       "      <td>NaN</td>\n",
       "      <td>0.002800</td>\n",
       "      <td>NaN</td>\n",
       "      <td>0.002196</td>\n",
       "      <td>1001</td>\n",
       "      <td>13217800</td>\n",
       "    </tr>\n",
       "    <tr>\n",
       "      <th>115987</th>\n",
       "      <td>35-44</td>\n",
       "      <td>U</td>\n",
       "      <td>50-74K</td>\n",
       "      <td>Homeowner</td>\n",
       "      <td>2 Adults Kids</td>\n",
       "      <td>4</td>\n",
       "      <td>2</td>\n",
       "      <td>4.831673</td>\n",
       "      <td>5.650000</td>\n",
       "      <td>1.661765</td>\n",
       "      <td>...</td>\n",
       "      <td>827</td>\n",
       "      <td>3741.78</td>\n",
       "      <td>NaN</td>\n",
       "      <td>10.705882</td>\n",
       "      <td>NaN</td>\n",
       "      <td>0.006039</td>\n",
       "      <td>NaN</td>\n",
       "      <td>0.005488</td>\n",
       "      <td>1167</td>\n",
       "      <td>6410462</td>\n",
       "    </tr>\n",
       "    <tr>\n",
       "      <th>115988</th>\n",
       "      <td>35-44</td>\n",
       "      <td>U</td>\n",
       "      <td>50-74K</td>\n",
       "      <td>Homeowner</td>\n",
       "      <td>2 Adults Kids</td>\n",
       "      <td>4</td>\n",
       "      <td>2</td>\n",
       "      <td>4.831673</td>\n",
       "      <td>5.650000</td>\n",
       "      <td>1.661765</td>\n",
       "      <td>...</td>\n",
       "      <td>827</td>\n",
       "      <td>3741.78</td>\n",
       "      <td>NaN</td>\n",
       "      <td>10.705882</td>\n",
       "      <td>NaN</td>\n",
       "      <td>0.006039</td>\n",
       "      <td>NaN</td>\n",
       "      <td>0.005488</td>\n",
       "      <td>1167</td>\n",
       "      <td>6430664</td>\n",
       "    </tr>\n",
       "  </tbody>\n",
       "</table>\n",
       "<p>3 rows × 23 columns</p>\n",
       "</div>"
      ],
      "text/plain": [
       "       age_desc marital_status_code income_desc homeowner_desc   hh_comp_desc  \\\n",
       "115986    45-54                   U      50-74K      Homeowner        Unknown   \n",
       "115987    35-44                   U      50-74K      Homeowner  2 Adults Kids   \n",
       "115988    35-44                   U      50-74K      Homeowner  2 Adults Kids   \n",
       "\n",
       "       household_size_desc kid_category_desc user_average_bill  \\\n",
       "115986                   1      None/Unknown          4.440243   \n",
       "115987                   4                 2          4.831673   \n",
       "115988                   4                 2          4.831673   \n",
       "\n",
       "       user_purchases_freq_per_month user_purchases_freq_per_week  ...  \\\n",
       "115986                      3.578947                     1.658537  ...   \n",
       "115987                      5.650000                     1.661765  ...   \n",
       "115988                      5.650000                     1.661765  ...   \n",
       "\n",
       "       user_freq total_user_sales_value item_quantity_per_week  \\\n",
       "115986       331                1649.08                    NaN   \n",
       "115987       827                3741.78                    NaN   \n",
       "115988       827                3741.78                    NaN   \n",
       "\n",
       "       user_quantity_per_week item_quantity_per_basket  \\\n",
       "115986               4.964706                      NaN   \n",
       "115987              10.705882                      NaN   \n",
       "115988              10.705882                      NaN   \n",
       "\n",
       "       user_quantity_per_baskter item_freq_per_basket user_freq_per_basket  \\\n",
       "115986                  0.002800                  NaN             0.002196   \n",
       "115987                  0.006039                  NaN             0.005488   \n",
       "115988                  0.006039                  NaN             0.005488   \n",
       "\n",
       "       user_id   item_id  \n",
       "115986    1001  13217800  \n",
       "115987    1167   6410462  \n",
       "115988    1167   6430664  \n",
       "\n",
       "[3 rows x 23 columns]"
      ]
     },
     "execution_count": 23,
     "metadata": {},
     "output_type": "execute_result"
    }
   ],
   "source": [
    "X_test = data_test[cat_feats + [\"user_id\", 'item_id']]\n",
    "X_test[cat_feats] = X_test[cat_feats].astype('category')\n",
    "X_test.tail(3)"
   ]
  },
  {
   "cell_type": "markdown",
   "metadata": {
    "id": "hjjVUUAWXIEi"
   },
   "source": [
    "**Получение рекомендаций и оценка precision@5 на тренировочном датасете**"
   ]
  },
  {
   "cell_type": "code",
   "execution_count": 24,
   "metadata": {
    "id": "JM5gxfnyXJil"
   },
   "outputs": [],
   "source": [
    "df_predict = data_train_lvl_2.copy()\n",
    "df_predict['proba_item_purchase'] = train_preds[:,1]"
   ]
  },
  {
   "cell_type": "code",
   "execution_count": 25,
   "metadata": {
    "id": "0MNf5qAkXUXS"
   },
   "outputs": [],
   "source": [
    "result_eval_ranker = data_val_lvl_2.groupby('user_id')['item_id'].unique().reset_index()\n",
    "result_eval_ranker.columns=['user_id', 'actual']"
   ]
  },
  {
   "cell_type": "code",
   "execution_count": 26,
   "metadata": {
    "id": "eTwpxnCoXa8I"
   },
   "outputs": [],
   "source": [
    "result_eval_ranker['own_rec'] = result_eval_ranker['user_id'].apply(lambda x: recommender.get_own_recommendations(x, N=N))"
   ]
  },
  {
   "cell_type": "code",
   "execution_count": 27,
   "metadata": {
    "colab": {
     "base_uri": "https://localhost:8080/"
    },
    "id": "m4n7yR_mXizX",
    "outputId": "33ac77c4-2b83-428f-dd55-17d9371c5b0c"
   },
   "outputs": [
    {
     "data": {
      "text/plain": [
       "0.104543080939947"
      ]
     },
     "execution_count": 27,
     "metadata": {},
     "output_type": "execute_result"
    }
   ],
   "source": [
    "result_eval_ranker.apply(lambda row: precision_at_k(row[\"own_rec\"], row[\"actual\"], k=5), axis=1).mean()"
   ]
  },
  {
   "cell_type": "code",
   "execution_count": 28,
   "metadata": {
    "id": "ie7QCcUBXvB-"
   },
   "outputs": [],
   "source": [
    "def rerank(user_id):\n",
    "    return df_predict[df_predict['user_id'] == user_id].sort_values('proba_item_purchase', ascending=False).head(5).item_id.tolist()"
   ]
  },
  {
   "cell_type": "code",
   "execution_count": 29,
   "metadata": {
    "id": "Iuj7XujSX3w7"
   },
   "outputs": [],
   "source": [
    "result_eval_ranker['reranked_own_rec'] = result_eval_ranker[\"user_id\"].apply(lambda user_id: rerank(user_id))"
   ]
  },
  {
   "cell_type": "code",
   "execution_count": 30,
   "metadata": {
    "colab": {
     "base_uri": "https://localhost:8080/"
    },
    "id": "xFQ5CzPwX-hB",
    "outputId": "92d34fe1-d666-4d08-c8f2-5cf2ce590c0d"
   },
   "outputs": [
    {
     "data": {
      "text/plain": [
       "0.22078328981722958"
      ]
     },
     "execution_count": 30,
     "metadata": {},
     "output_type": "execute_result"
    }
   ],
   "source": [
    "result_eval_ranker.apply(lambda row: precision_at_k(row[\"reranked_own_rec\"], row[\"actual\"], k=5), axis=1).mean()"
   ]
  },
  {
   "cell_type": "code",
   "execution_count": 31,
   "metadata": {
    "colab": {
     "base_uri": "https://localhost:8080/",
     "height": 111
    },
    "id": "Oua5yL3RYHaK",
    "outputId": "16fb180b-4732-4bec-ff97-9637bb691b43"
   },
   "outputs": [
    {
     "data": {
      "text/html": [
       "<div>\n",
       "<style scoped>\n",
       "    .dataframe tbody tr th:only-of-type {\n",
       "        vertical-align: middle;\n",
       "    }\n",
       "\n",
       "    .dataframe tbody tr th {\n",
       "        vertical-align: top;\n",
       "    }\n",
       "\n",
       "    .dataframe thead th {\n",
       "        text-align: right;\n",
       "    }\n",
       "</style>\n",
       "<table border=\"1\" class=\"dataframe\">\n",
       "  <thead>\n",
       "    <tr style=\"text-align: right;\">\n",
       "      <th></th>\n",
       "      <th>user_id</th>\n",
       "      <th>actual</th>\n",
       "      <th>own_rec</th>\n",
       "      <th>reranked_own_rec</th>\n",
       "    </tr>\n",
       "  </thead>\n",
       "  <tbody>\n",
       "    <tr>\n",
       "      <th>0</th>\n",
       "      <td>1</td>\n",
       "      <td>[821867, 834484, 856942, 865456, 889248, 90795...</td>\n",
       "      <td>[999999, 1029743, 1106523, 5569230, 916122, 10...</td>\n",
       "      <td>[1082185, 1029743, 1102067, 899624, 901062]</td>\n",
       "    </tr>\n",
       "    <tr>\n",
       "      <th>1</th>\n",
       "      <td>6</td>\n",
       "      <td>[920308, 926804, 946489, 1006718, 1017061, 107...</td>\n",
       "      <td>[999999, 1029743, 1106523, 5569230, 916122, 10...</td>\n",
       "      <td>[1082185, 5570882, 845208, 8357613, 1029743]</td>\n",
       "    </tr>\n",
       "  </tbody>\n",
       "</table>\n",
       "</div>"
      ],
      "text/plain": [
       "   user_id                                             actual  \\\n",
       "0        1  [821867, 834484, 856942, 865456, 889248, 90795...   \n",
       "1        6  [920308, 926804, 946489, 1006718, 1017061, 107...   \n",
       "\n",
       "                                             own_rec  \\\n",
       "0  [999999, 1029743, 1106523, 5569230, 916122, 10...   \n",
       "1  [999999, 1029743, 1106523, 5569230, 916122, 10...   \n",
       "\n",
       "                               reranked_own_rec  \n",
       "0   [1082185, 1029743, 1102067, 899624, 901062]  \n",
       "1  [1082185, 5570882, 845208, 8357613, 1029743]  "
      ]
     },
     "execution_count": 31,
     "metadata": {},
     "output_type": "execute_result"
    }
   ],
   "source": [
    "result_eval_ranker.head(2)"
   ]
  },
  {
   "cell_type": "markdown",
   "metadata": {
    "id": "_TMwn2jwdrGP"
   },
   "source": [
    "**Получение рекомендаций для тестового датасета**"
   ]
  },
  {
   "cell_type": "code",
   "execution_count": 32,
   "metadata": {
    "id": "FhS1e_-vd2cQ"
   },
   "outputs": [],
   "source": [
    "test_preds = lgb.predict_proba(X_test)"
   ]
  },
  {
   "cell_type": "code",
   "execution_count": 33,
   "metadata": {
    "colab": {
     "base_uri": "https://localhost:8080/",
     "height": 204
    },
    "id": "J_YF3ppAeFH8",
    "outputId": "2ee6b27a-9656-48b0-e7e8-1a3c41f397e8"
   },
   "outputs": [
    {
     "data": {
      "text/html": [
       "<div>\n",
       "<style scoped>\n",
       "    .dataframe tbody tr th:only-of-type {\n",
       "        vertical-align: middle;\n",
       "    }\n",
       "\n",
       "    .dataframe tbody tr th {\n",
       "        vertical-align: top;\n",
       "    }\n",
       "\n",
       "    .dataframe thead th {\n",
       "        text-align: right;\n",
       "    }\n",
       "</style>\n",
       "<table border=\"1\" class=\"dataframe\">\n",
       "  <thead>\n",
       "    <tr style=\"text-align: right;\">\n",
       "      <th></th>\n",
       "      <th>user_id</th>\n",
       "      <th>basket_id</th>\n",
       "      <th>day</th>\n",
       "      <th>item_id</th>\n",
       "      <th>quantity</th>\n",
       "      <th>sales_value</th>\n",
       "      <th>store_id</th>\n",
       "      <th>retail_disc</th>\n",
       "      <th>trans_time</th>\n",
       "      <th>week_no</th>\n",
       "      <th>...</th>\n",
       "      <th>item_freq</th>\n",
       "      <th>user_freq</th>\n",
       "      <th>total_user_sales_value</th>\n",
       "      <th>item_quantity_per_week</th>\n",
       "      <th>user_quantity_per_week</th>\n",
       "      <th>item_quantity_per_basket</th>\n",
       "      <th>user_quantity_per_baskter</th>\n",
       "      <th>item_freq_per_basket</th>\n",
       "      <th>user_freq_per_basket</th>\n",
       "      <th>proba_item_purchase</th>\n",
       "    </tr>\n",
       "  </thead>\n",
       "  <tbody>\n",
       "    <tr>\n",
       "      <th>0</th>\n",
       "      <td>338</td>\n",
       "      <td>41260573635</td>\n",
       "      <td>636</td>\n",
       "      <td>840173</td>\n",
       "      <td>1</td>\n",
       "      <td>1.99</td>\n",
       "      <td>369</td>\n",
       "      <td>0.0</td>\n",
       "      <td>112</td>\n",
       "      <td>92</td>\n",
       "      <td>...</td>\n",
       "      <td>NaN</td>\n",
       "      <td>206</td>\n",
       "      <td>876.31</td>\n",
       "      <td>NaN</td>\n",
       "      <td>2.847059</td>\n",
       "      <td>NaN</td>\n",
       "      <td>0.001606</td>\n",
       "      <td>NaN</td>\n",
       "      <td>0.001367</td>\n",
       "      <td>0.007796</td>\n",
       "    </tr>\n",
       "    <tr>\n",
       "      <th>1</th>\n",
       "      <td>338</td>\n",
       "      <td>41260573635</td>\n",
       "      <td>636</td>\n",
       "      <td>1037348</td>\n",
       "      <td>1</td>\n",
       "      <td>0.89</td>\n",
       "      <td>369</td>\n",
       "      <td>-0.3</td>\n",
       "      <td>112</td>\n",
       "      <td>92</td>\n",
       "      <td>...</td>\n",
       "      <td>NaN</td>\n",
       "      <td>206</td>\n",
       "      <td>876.31</td>\n",
       "      <td>NaN</td>\n",
       "      <td>2.847059</td>\n",
       "      <td>NaN</td>\n",
       "      <td>0.001606</td>\n",
       "      <td>NaN</td>\n",
       "      <td>0.001367</td>\n",
       "      <td>0.007796</td>\n",
       "    </tr>\n",
       "  </tbody>\n",
       "</table>\n",
       "<p>2 rows × 34 columns</p>\n",
       "</div>"
      ],
      "text/plain": [
       "   user_id    basket_id  day  item_id  quantity  sales_value  store_id  \\\n",
       "0      338  41260573635  636   840173         1         1.99       369   \n",
       "1      338  41260573635  636  1037348         1         0.89       369   \n",
       "\n",
       "   retail_disc  trans_time  week_no  ...  item_freq  user_freq  \\\n",
       "0          0.0         112       92  ...        NaN        206   \n",
       "1         -0.3         112       92  ...        NaN        206   \n",
       "\n",
       "  total_user_sales_value item_quantity_per_week user_quantity_per_week  \\\n",
       "0                 876.31                    NaN               2.847059   \n",
       "1                 876.31                    NaN               2.847059   \n",
       "\n",
       "  item_quantity_per_basket user_quantity_per_baskter item_freq_per_basket  \\\n",
       "0                      NaN                  0.001606                  NaN   \n",
       "1                      NaN                  0.001606                  NaN   \n",
       "\n",
       "  user_freq_per_basket  proba_item_purchase  \n",
       "0             0.001367             0.007796  \n",
       "1             0.001367             0.007796  \n",
       "\n",
       "[2 rows x 34 columns]"
      ]
     },
     "execution_count": 33,
     "metadata": {},
     "output_type": "execute_result"
    }
   ],
   "source": [
    "df_test_predict = data_test.copy()\n",
    "df_test_predict['proba_item_purchase'] = test_preds[:,1]\n",
    "df_test_predict.head(2)"
   ]
  },
  {
   "cell_type": "code",
   "execution_count": 34,
   "metadata": {
    "id": "2Cygau1reUGP"
   },
   "outputs": [],
   "source": [
    "result = df_test_predict.groupby('user_id')['item_id'].unique().reset_index()\n",
    "result.columns=['user_id', 'actual']\n",
    "result['own_rec'] = result_eval_ranker['user_id'].apply(lambda x: recommender.get_own_recommendations(x, N=N))"
   ]
  },
  {
   "cell_type": "code",
   "execution_count": 35,
   "metadata": {
    "colab": {
     "base_uri": "https://localhost:8080/",
     "height": 111
    },
    "id": "P-Za2j0VeZf6",
    "outputId": "fe6fda7f-5d85-41ed-f620-79ecd3a2f890"
   },
   "outputs": [
    {
     "data": {
      "text/html": [
       "<div>\n",
       "<style scoped>\n",
       "    .dataframe tbody tr th:only-of-type {\n",
       "        vertical-align: middle;\n",
       "    }\n",
       "\n",
       "    .dataframe tbody tr th {\n",
       "        vertical-align: top;\n",
       "    }\n",
       "\n",
       "    .dataframe thead th {\n",
       "        text-align: right;\n",
       "    }\n",
       "</style>\n",
       "<table border=\"1\" class=\"dataframe\">\n",
       "  <thead>\n",
       "    <tr style=\"text-align: right;\">\n",
       "      <th></th>\n",
       "      <th>user_id</th>\n",
       "      <th>rec</th>\n",
       "    </tr>\n",
       "  </thead>\n",
       "  <tbody>\n",
       "    <tr>\n",
       "      <th>0</th>\n",
       "      <td>1</td>\n",
       "      <td>[1082185, 1029743, 1102067, 899624, 901062]</td>\n",
       "    </tr>\n",
       "    <tr>\n",
       "      <th>1</th>\n",
       "      <td>6</td>\n",
       "      <td>[1082185, 5570882, 845208, 8357613, 1029743]</td>\n",
       "    </tr>\n",
       "  </tbody>\n",
       "</table>\n",
       "</div>"
      ],
      "text/plain": [
       "   user_id                                           rec\n",
       "0        1   [1082185, 1029743, 1102067, 899624, 901062]\n",
       "1        6  [1082185, 5570882, 845208, 8357613, 1029743]"
      ]
     },
     "execution_count": 35,
     "metadata": {},
     "output_type": "execute_result"
    }
   ],
   "source": [
    "result['rec'] = result[\"user_id\"].apply(lambda user_id: rerank(user_id))\n",
    "result[['user_id','rec']].head(2)"
   ]
  },
  {
   "cell_type": "code",
   "execution_count": 36,
   "metadata": {
    "id": "gZ2PMRAHeeIe"
   },
   "outputs": [],
   "source": [
    "result[['user_id','rec']].to_csv('recommendations.csv')"
   ]
  },
  {
   "cell_type": "markdown",
   "metadata": {
    "id": "DtKs1jn_seoK"
   },
   "source": [
    "Вывод: на тестовом датасете удалось получить precision_at_k равной 0.22 при k=5"
   ]
  }
 ],
 "metadata": {
  "colab": {
   "provenance": []
  },
  "kernelspec": {
   "display_name": "Python 3 (ipykernel)",
   "language": "python",
   "name": "python3"
  },
  "language_info": {
   "codemirror_mode": {
    "name": "ipython",
    "version": 3
   },
   "file_extension": ".py",
   "mimetype": "text/x-python",
   "name": "python",
   "nbconvert_exporter": "python",
   "pygments_lexer": "ipython3",
   "version": "3.9.12"
  }
 },
 "nbformat": 4,
 "nbformat_minor": 1
}
